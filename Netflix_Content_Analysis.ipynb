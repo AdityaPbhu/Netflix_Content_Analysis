{
 "cells": [
  {
   "cell_type": "markdown",
   "id": "2916f13c",
   "metadata": {},
   "source": [
    "# Netflix Content Analysis\n",
    "\n",
    "This project explores the Netflix Movies and TV Shows dataset to derive insights about:\n",
    "\n",
    "- Content type distribution (Movies vs TV Shows)\n",
    "- Content addition trends over years\n",
    "- Top genres/categories\n",
    "- Country-wise content availability\n",
    "- Movie durations\n",
    "- TV show seasons\n",
    "\n",
    "The analysis will help understand Netflix’s content strategy and library composition.\n"
   ]
  },
  {
   "cell_type": "code",
   "execution_count": 1,
   "id": "767aaa30",
   "metadata": {},
   "outputs": [
    {
     "name": "stdout",
     "output_type": "stream",
     "text": [
      "Libraries imported successfully.\n"
     ]
    }
   ],
   "source": [
    "# Importing necessary libraries\n",
    "\n",
    "import pandas as pd\n",
    "import numpy as np\n",
    "import matplotlib.pyplot as plt\n",
    "import seaborn as sns\n",
    "\n",
    "# Setting plot styles for clarity\n",
    "sns.set(style=\"whitegrid\")\n",
    "plt.rcParams['figure.figsize'] = (12,6)\n",
    "\n",
    "print(\"Libraries imported successfully.\")\n"
   ]
  },
  {
   "cell_type": "markdown",
   "id": "82665fe3",
   "metadata": {},
   "source": [
    "## Loading the Dataset\n",
    "\n",
    "The dataset is loaded from the local Downloads folder and previewed to understand its structure and columns.\n"
   ]
  },
  {
   "cell_type": "code",
   "execution_count": 2,
   "id": "de2e0916",
   "metadata": {},
   "outputs": [
    {
     "data": {
      "application/vnd.microsoft.datawrangler.viewer.v0+json": {
       "columns": [
        {
         "name": "index",
         "rawType": "int64",
         "type": "integer"
        },
        {
         "name": "show_id",
         "rawType": "object",
         "type": "string"
        },
        {
         "name": "type",
         "rawType": "object",
         "type": "string"
        },
        {
         "name": "title",
         "rawType": "object",
         "type": "string"
        },
        {
         "name": "director",
         "rawType": "object",
         "type": "unknown"
        },
        {
         "name": "cast",
         "rawType": "object",
         "type": "unknown"
        },
        {
         "name": "country",
         "rawType": "object",
         "type": "unknown"
        },
        {
         "name": "date_added",
         "rawType": "object",
         "type": "string"
        },
        {
         "name": "release_year",
         "rawType": "int64",
         "type": "integer"
        },
        {
         "name": "rating",
         "rawType": "object",
         "type": "string"
        },
        {
         "name": "duration",
         "rawType": "object",
         "type": "string"
        },
        {
         "name": "listed_in",
         "rawType": "object",
         "type": "string"
        },
        {
         "name": "description",
         "rawType": "object",
         "type": "string"
        }
       ],
       "ref": "d3d9bfc6-1eca-4c26-bfd7-f930107ae62d",
       "rows": [
        [
         "0",
         "s1",
         "Movie",
         "Dick Johnson Is Dead",
         "Kirsten Johnson",
         null,
         "United States",
         "September 25, 2021",
         "2020",
         "PG-13",
         "90 min",
         "Documentaries",
         "As her father nears the end of his life, filmmaker Kirsten Johnson stages his death in inventive and comical ways to help them both face the inevitable."
        ],
        [
         "1",
         "s2",
         "TV Show",
         "Blood & Water",
         null,
         "Ama Qamata, Khosi Ngema, Gail Mabalane, Thabang Molaba, Dillon Windvogel, Natasha Thahane, Arno Greeff, Xolile Tshabalala, Getmore Sithole, Cindy Mahlangu, Ryle De Morny, Greteli Fincham, Sello Maake Ka-Ncube, Odwa Gwanya, Mekaila Mathys, Sandi Schultz, Duane Williams, Shamilla Miller, Patrick Mofokeng",
         "South Africa",
         "September 24, 2021",
         "2021",
         "TV-MA",
         "2 Seasons",
         "International TV Shows, TV Dramas, TV Mysteries",
         "After crossing paths at a party, a Cape Town teen sets out to prove whether a private-school swimming star is her sister who was abducted at birth."
        ],
        [
         "2",
         "s3",
         "TV Show",
         "Ganglands",
         "Julien Leclercq",
         "Sami Bouajila, Tracy Gotoas, Samuel Jouy, Nabiha Akkari, Sofia Lesaffre, Salim Kechiouche, Noureddine Farihi, Geert Van Rampelberg, Bakary Diombera",
         null,
         "September 24, 2021",
         "2021",
         "TV-MA",
         "1 Season",
         "Crime TV Shows, International TV Shows, TV Action & Adventure",
         "To protect his family from a powerful drug lord, skilled thief Mehdi and his expert team of robbers are pulled into a violent and deadly turf war."
        ],
        [
         "3",
         "s4",
         "TV Show",
         "Jailbirds New Orleans",
         null,
         null,
         null,
         "September 24, 2021",
         "2021",
         "TV-MA",
         "1 Season",
         "Docuseries, Reality TV",
         "Feuds, flirtations and toilet talk go down among the incarcerated women at the Orleans Justice Center in New Orleans on this gritty reality series."
        ],
        [
         "4",
         "s5",
         "TV Show",
         "Kota Factory",
         null,
         "Mayur More, Jitendra Kumar, Ranjan Raj, Alam Khan, Ahsaas Channa, Revathi Pillai, Urvi Singh, Arun Kumar",
         "India",
         "September 24, 2021",
         "2021",
         "TV-MA",
         "2 Seasons",
         "International TV Shows, Romantic TV Shows, TV Comedies",
         "In a city of coaching centers known to train India’s finest collegiate minds, an earnest but unexceptional student and his friends navigate campus life."
        ]
       ],
       "shape": {
        "columns": 12,
        "rows": 5
       }
      },
      "text/html": [
       "<div>\n",
       "<style scoped>\n",
       "    .dataframe tbody tr th:only-of-type {\n",
       "        vertical-align: middle;\n",
       "    }\n",
       "\n",
       "    .dataframe tbody tr th {\n",
       "        vertical-align: top;\n",
       "    }\n",
       "\n",
       "    .dataframe thead th {\n",
       "        text-align: right;\n",
       "    }\n",
       "</style>\n",
       "<table border=\"1\" class=\"dataframe\">\n",
       "  <thead>\n",
       "    <tr style=\"text-align: right;\">\n",
       "      <th></th>\n",
       "      <th>show_id</th>\n",
       "      <th>type</th>\n",
       "      <th>title</th>\n",
       "      <th>director</th>\n",
       "      <th>cast</th>\n",
       "      <th>country</th>\n",
       "      <th>date_added</th>\n",
       "      <th>release_year</th>\n",
       "      <th>rating</th>\n",
       "      <th>duration</th>\n",
       "      <th>listed_in</th>\n",
       "      <th>description</th>\n",
       "    </tr>\n",
       "  </thead>\n",
       "  <tbody>\n",
       "    <tr>\n",
       "      <th>0</th>\n",
       "      <td>s1</td>\n",
       "      <td>Movie</td>\n",
       "      <td>Dick Johnson Is Dead</td>\n",
       "      <td>Kirsten Johnson</td>\n",
       "      <td>NaN</td>\n",
       "      <td>United States</td>\n",
       "      <td>September 25, 2021</td>\n",
       "      <td>2020</td>\n",
       "      <td>PG-13</td>\n",
       "      <td>90 min</td>\n",
       "      <td>Documentaries</td>\n",
       "      <td>As her father nears the end of his life, filmm...</td>\n",
       "    </tr>\n",
       "    <tr>\n",
       "      <th>1</th>\n",
       "      <td>s2</td>\n",
       "      <td>TV Show</td>\n",
       "      <td>Blood &amp; Water</td>\n",
       "      <td>NaN</td>\n",
       "      <td>Ama Qamata, Khosi Ngema, Gail Mabalane, Thaban...</td>\n",
       "      <td>South Africa</td>\n",
       "      <td>September 24, 2021</td>\n",
       "      <td>2021</td>\n",
       "      <td>TV-MA</td>\n",
       "      <td>2 Seasons</td>\n",
       "      <td>International TV Shows, TV Dramas, TV Mysteries</td>\n",
       "      <td>After crossing paths at a party, a Cape Town t...</td>\n",
       "    </tr>\n",
       "    <tr>\n",
       "      <th>2</th>\n",
       "      <td>s3</td>\n",
       "      <td>TV Show</td>\n",
       "      <td>Ganglands</td>\n",
       "      <td>Julien Leclercq</td>\n",
       "      <td>Sami Bouajila, Tracy Gotoas, Samuel Jouy, Nabi...</td>\n",
       "      <td>NaN</td>\n",
       "      <td>September 24, 2021</td>\n",
       "      <td>2021</td>\n",
       "      <td>TV-MA</td>\n",
       "      <td>1 Season</td>\n",
       "      <td>Crime TV Shows, International TV Shows, TV Act...</td>\n",
       "      <td>To protect his family from a powerful drug lor...</td>\n",
       "    </tr>\n",
       "    <tr>\n",
       "      <th>3</th>\n",
       "      <td>s4</td>\n",
       "      <td>TV Show</td>\n",
       "      <td>Jailbirds New Orleans</td>\n",
       "      <td>NaN</td>\n",
       "      <td>NaN</td>\n",
       "      <td>NaN</td>\n",
       "      <td>September 24, 2021</td>\n",
       "      <td>2021</td>\n",
       "      <td>TV-MA</td>\n",
       "      <td>1 Season</td>\n",
       "      <td>Docuseries, Reality TV</td>\n",
       "      <td>Feuds, flirtations and toilet talk go down amo...</td>\n",
       "    </tr>\n",
       "    <tr>\n",
       "      <th>4</th>\n",
       "      <td>s5</td>\n",
       "      <td>TV Show</td>\n",
       "      <td>Kota Factory</td>\n",
       "      <td>NaN</td>\n",
       "      <td>Mayur More, Jitendra Kumar, Ranjan Raj, Alam K...</td>\n",
       "      <td>India</td>\n",
       "      <td>September 24, 2021</td>\n",
       "      <td>2021</td>\n",
       "      <td>TV-MA</td>\n",
       "      <td>2 Seasons</td>\n",
       "      <td>International TV Shows, Romantic TV Shows, TV ...</td>\n",
       "      <td>In a city of coaching centers known to train I...</td>\n",
       "    </tr>\n",
       "  </tbody>\n",
       "</table>\n",
       "</div>"
      ],
      "text/plain": [
       "  show_id     type                  title         director  \\\n",
       "0      s1    Movie   Dick Johnson Is Dead  Kirsten Johnson   \n",
       "1      s2  TV Show          Blood & Water              NaN   \n",
       "2      s3  TV Show              Ganglands  Julien Leclercq   \n",
       "3      s4  TV Show  Jailbirds New Orleans              NaN   \n",
       "4      s5  TV Show           Kota Factory              NaN   \n",
       "\n",
       "                                                cast        country  \\\n",
       "0                                                NaN  United States   \n",
       "1  Ama Qamata, Khosi Ngema, Gail Mabalane, Thaban...   South Africa   \n",
       "2  Sami Bouajila, Tracy Gotoas, Samuel Jouy, Nabi...            NaN   \n",
       "3                                                NaN            NaN   \n",
       "4  Mayur More, Jitendra Kumar, Ranjan Raj, Alam K...          India   \n",
       "\n",
       "           date_added  release_year rating   duration  \\\n",
       "0  September 25, 2021          2020  PG-13     90 min   \n",
       "1  September 24, 2021          2021  TV-MA  2 Seasons   \n",
       "2  September 24, 2021          2021  TV-MA   1 Season   \n",
       "3  September 24, 2021          2021  TV-MA   1 Season   \n",
       "4  September 24, 2021          2021  TV-MA  2 Seasons   \n",
       "\n",
       "                                           listed_in  \\\n",
       "0                                      Documentaries   \n",
       "1    International TV Shows, TV Dramas, TV Mysteries   \n",
       "2  Crime TV Shows, International TV Shows, TV Act...   \n",
       "3                             Docuseries, Reality TV   \n",
       "4  International TV Shows, Romantic TV Shows, TV ...   \n",
       "\n",
       "                                         description  \n",
       "0  As her father nears the end of his life, filmm...  \n",
       "1  After crossing paths at a party, a Cape Town t...  \n",
       "2  To protect his family from a powerful drug lor...  \n",
       "3  Feuds, flirtations and toilet talk go down amo...  \n",
       "4  In a city of coaching centers known to train I...  "
      ]
     },
     "execution_count": 2,
     "metadata": {},
     "output_type": "execute_result"
    }
   ],
   "source": [
    "df = pd.read_csv('/Users/aditya/Downloads/netflix_titles.csv')\n",
    "\n",
    "# Display first 5 rows\n",
    "df.head()\n"
   ]
  },
  {
   "cell_type": "markdown",
   "id": "d52b4887",
   "metadata": {},
   "source": [
    "## Dataset Overview\n",
    "\n",
    "We check:\n",
    "\n",
    "- Number of rows and columns\n",
    "- Data types of each column\n",
    "- Missing values\n"
   ]
  },
  {
   "cell_type": "code",
   "execution_count": 4,
   "id": "cf2f1b86",
   "metadata": {},
   "outputs": [
    {
     "name": "stdout",
     "output_type": "stream",
     "text": [
      "<class 'pandas.core.frame.DataFrame'>\n",
      "RangeIndex: 8807 entries, 0 to 8806\n",
      "Data columns (total 12 columns):\n",
      " #   Column        Non-Null Count  Dtype \n",
      "---  ------        --------------  ----- \n",
      " 0   show_id       8807 non-null   object\n",
      " 1   type          8807 non-null   object\n",
      " 2   title         8807 non-null   object\n",
      " 3   director      6173 non-null   object\n",
      " 4   cast          7982 non-null   object\n",
      " 5   country       7976 non-null   object\n",
      " 6   date_added    8797 non-null   object\n",
      " 7   release_year  8807 non-null   int64 \n",
      " 8   rating        8803 non-null   object\n",
      " 9   duration      8804 non-null   object\n",
      " 10  listed_in     8807 non-null   object\n",
      " 11  description   8807 non-null   object\n",
      "dtypes: int64(1), object(11)\n",
      "memory usage: 825.8+ KB\n",
      "\n",
      "Missing values in each column:\n",
      "show_id            0\n",
      "type               0\n",
      "title              0\n",
      "director        2634\n",
      "cast             825\n",
      "country          831\n",
      "date_added        10\n",
      "release_year       0\n",
      "rating             4\n",
      "duration           3\n",
      "listed_in          0\n",
      "description        0\n",
      "dtype: int64\n"
     ]
    }
   ],
   "source": [
    "# Checking basic info\n",
    "df.info()\n",
    "\n",
    "# Checking missing values\n",
    "print(\"\\nMissing values in each column:\")\n",
    "print(df.isnull().sum())\n"
   ]
  },
  {
   "cell_type": "markdown",
   "id": "bc14a99c",
   "metadata": {},
   "source": [
    "## Data Cleaning\n",
    "\n",
    "Before analysis, we will:\n",
    "\n",
    "- Convert 'date_added' to datetime format\n",
    "- Handle missing values where relevant\n",
    "- Prepare duration columns for Movies and TV Shows analysis\n"
   ]
  },
  {
   "cell_type": "code",
   "execution_count": 5,
   "id": "9739f38f",
   "metadata": {},
   "outputs": [
    {
     "name": "stdout",
     "output_type": "stream",
     "text": [
      "Data cleaning: date conversion and string trimming completed.\n"
     ]
    }
   ],
   "source": [
    "# Convert 'date_added' to datetime\n",
    "df['date_added'] = pd.to_datetime(df['date_added'], errors='coerce')\n",
    "\n",
    "# Strip whitespace from string columns (optional but clean)\n",
    "str_cols = ['type', 'title', 'director', 'cast', 'country', 'rating', 'duration', 'listed_in']\n",
    "for col in str_cols:\n",
    "    df[col] = df[col].astype(str).str.strip()\n",
    "\n",
    "print(\"Data cleaning: date conversion and string trimming completed.\")\n",
    "\n"
   ]
  },
  {
   "cell_type": "markdown",
   "id": "d23916d3",
   "metadata": {},
   "source": [
    "## Content Type Distribution\n",
    "\n",
    "This analysis shows the distribution of content types on Netflix (Movies vs TV Shows). It helps understand Netflix's content strategy and whether it focuses more on movies or series.\n"
   ]
  },
  {
   "cell_type": "code",
   "execution_count": null,
   "id": "3fa2bef4",
   "metadata": {},
   "outputs": [
    {
     "name": "stderr",
     "output_type": "stream",
     "text": [
      "/var/folders/4w/5fznd69s4wb2qrtbw7ttb4480000gn/T/ipykernel_19452/3596876400.py:4: FutureWarning: \n",
      "\n",
      "Passing `palette` without assigning `hue` is deprecated and will be removed in v0.14.0. Assign the `x` variable to `hue` and set `legend=False` for the same effect.\n",
      "\n",
      "  ax = sns.barplot(x=content_type_counts.index, y=content_type_counts.values, palette='Set2')\n"
     ]
    },
    {
     "data": {
      "image/png": "[encoded data removed]",
      "text/plain": [
       "<Figure size 800x500 with 1 Axes>"
      ]
     },
     "metadata": {},
     "output_type": "display_data"
    }
   ],
   "source": [
    "# Plotting with improved styling\n",
    "\n",
    "plt.figure(figsize=(8,5))\n",
    "ax = sns.barplot(x=content_type_counts.index, y=content_type_counts.values, palette='Set2')\n",
    "\n",
    "# Title and labels with larger fonts\n",
    "plt.title(\"Distribution of Content Types on Netflix\", fontsize=14, weight='bold')\n",
    "plt.xlabel(\"Content Type\", fontsize=12)\n",
    "plt.ylabel(\"Number of Titles\", fontsize=12)\n",
    "\n",
    "# Format y-axis with commas\n",
    "import matplotlib.ticker as ticker\n",
    "ax.yaxis.set_major_formatter(ticker.FuncFormatter(lambda x, p: format(int(x), ',')))\n",
    "\n",
    "# Adding data labels on bars\n",
    "for p in ax.patches:\n",
    "    height = p.get_height()\n",
    "    ax.annotate(f'{int(height):,}',\n",
    "                (p.get_x() + p.get_width() / 2, height + 100),\n",
    "                ha='center', va='bottom', fontsize=10, color='black')\n",
    "\n",
    "plt.tight_layout()\n",
    "plt.show()\n"
   ]
  },
  {
   "cell_type": "markdown",
   "id": "0b392d37",
   "metadata": {},
   "source": [
    "## Content Addition Trend Over Years\n",
    "\n",
    "This analysis shows how Netflix's content library has grown over the years by analysing the number of movies and TV shows added each year. It provides insights into Netflix's expansion and content acquisition strategies over time.\n"
   ]
  },
  {
   "cell_type": "code",
   "execution_count": 8,
   "id": "65cd5844",
   "metadata": {},
   "outputs": [
    {
     "data": {
      "image/png": "[encoded data removed]",
      "text/plain": [
       "<Figure size 1200x600 with 1 Axes>"
      ]
     },
     "metadata": {},
     "output_type": "display_data"
    }
   ],
   "source": [
    "# Extract year from 'date_added'\n",
    "df['year_added'] = df['date_added'].dt.year\n",
    "\n",
    "# Group by year and content type, count number of titles added\n",
    "content_trend = df.groupby(['year_added', 'type']).size().reset_index(name='count')\n",
    "\n",
    "# Drop rows with missing year (if any)\n",
    "content_trend = content_trend.dropna()\n",
    "\n",
    "# Plotting\n",
    "plt.figure(figsize=(12,6))\n",
    "ax = sns.barplot(x='year_added', y='count', hue='type', data=content_trend, palette='Set2')\n",
    "\n",
    "# Title and labels\n",
    "plt.title(\"Number of Movies and TV Shows Added Each Year on Netflix\", fontsize=14, weight='bold')\n",
    "plt.xlabel(\"Year\", fontsize=12)\n",
    "plt.ylabel(\"Number of Titles Added\", fontsize=12)\n",
    "plt.xticks(rotation=45)\n",
    "\n",
    "# Adding data labels on bars (optional, can clutter if too many years)\n",
    "# for p in ax.patches:\n",
    "#     height = p.get_height()\n",
    "#     ax.annotate(f'{int(height):,}',\n",
    "#                 (p.get_x() + p.get_width() / 2, height + 50),\n",
    "#                 ha='center', va='bottom', fontsize=8, color='black')\n",
    "\n",
    "plt.legend(title='Content Type')\n",
    "plt.tight_layout()\n",
    "plt.show()\n"
   ]
  },
  {
   "cell_type": "markdown",
   "id": "ba0a069f",
   "metadata": {},
   "source": []
  }
 ],
 "metadata": {
  "kernelspec": {
   "display_name": "Python 3",
   "language": "python",
   "name": "python3"
  },
  "language_info": {
   "codemirror_mode": {
    "name": "ipython",
    "version": 3
   },
   "file_extension": ".py",
   "mimetype": "text/x-python",
   "name": "python",
   "nbconvert_exporter": "python",
   "pygments_lexer": "ipython3",
   "version": "3.13.3"
  }
 },
 "nbformat": 4,
 "nbformat_minor": 5
}
